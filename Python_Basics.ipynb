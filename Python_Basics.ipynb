{
  "nbformat": 4,
  "nbformat_minor": 0,
  "metadata": {
    "colab": {
      "provenance": [],
      "toc_visible": true,
      "authorship_tag": "ABX9TyMiDtDwR8lpOZBgNj7cLhzB",
      "include_colab_link": true
    },
    "kernelspec": {
      "name": "python3",
      "display_name": "Python 3"
    },
    "language_info": {
      "name": "python"
    }
  },
  "cells": [
    {
      "cell_type": "markdown",
      "metadata": {
        "id": "view-in-github",
        "colab_type": "text"
      },
      "source": [
        "<a href=\"https://colab.research.google.com/github/raviblearn1/btiai-python/blob/main/Python_Basics.ipynb\" target=\"_parent\"><img src=\"https://colab.research.google.com/assets/colab-badge.svg\" alt=\"Open In Colab\"/></a>"
      ]
    },
    {
      "cell_type": "markdown",
      "source": [
        "# Introduction\n",
        "\n",
        "Python is a very powerful programming language used very highly in every part of IT world like - working with data, Web development, Scientif field as well as build and execute machine learning algorithms.\n"
      ],
      "metadata": {
        "id": "7edXTlnOca-X"
      }
    },
    {
      "cell_type": "markdown",
      "source": [
        "## Variables\n",
        "\n",
        "`Variables` are name designated to a memory location.\n",
        "\n",
        "In Python, a variable naming convention is defined a"
      ],
      "metadata": {
        "id": "dEGdAxtqeJ3K"
      }
    },
    {
      "cell_type": "code",
      "execution_count": 1,
      "metadata": {
        "colab": {
          "base_uri": "https://localhost:8080/"
        },
        "id": "M7IQyQSwaWnZ",
        "outputId": "0bd3d343-d9d3-4f33-a3ca-6d588a629b00"
      },
      "outputs": [
        {
          "output_type": "stream",
          "name": "stdout",
          "text": [
            "Hellow world\n"
          ]
        }
      ],
      "source": [
        "print(\"Hellow world\")"
      ]
    },
    {
      "cell_type": "markdown",
      "source": [
        "### Integer"
      ],
      "metadata": {
        "id": "R4-4Ha7zgZt9"
      }
    },
    {
      "cell_type": "code",
      "source": [
        "x = 5\n",
        "print(f'Integer : {x}')\n",
        "print(f'Data type of 5 is :{type(x)}')"
      ],
      "metadata": {
        "colab": {
          "base_uri": "https://localhost:8080/"
        },
        "id": "RqS8UgqKa0aY",
        "outputId": "6fd7f2bb-14da-4aa3-d666-88b16c35d581"
      },
      "execution_count": 4,
      "outputs": [
        {
          "output_type": "stream",
          "name": "stdout",
          "text": [
            "Integer : 5\n",
            "Data type of 5 is :<class 'int'>\n"
          ]
        }
      ]
    },
    {
      "cell_type": "markdown",
      "source": [
        "### Float"
      ],
      "metadata": {
        "id": "hn9ZLp19gdr5"
      }
    },
    {
      "cell_type": "code",
      "source": [
        "print(10.5,' and its datatype',type(10.5))"
      ],
      "metadata": {
        "colab": {
          "base_uri": "https://localhost:8080/"
        },
        "id": "eBDj6U8Uexxk",
        "outputId": "4bda2cf4-bdfa-408f-cd21-e721fde6001b"
      },
      "execution_count": 6,
      "outputs": [
        {
          "output_type": "stream",
          "name": "stdout",
          "text": [
            "10.5  and its datatype <class 'float'>\n"
          ]
        }
      ]
    },
    {
      "cell_type": "markdown",
      "source": [
        "### String"
      ],
      "metadata": {
        "id": "I7GpstYLghvi"
      }
    },
    {
      "cell_type": "code",
      "source": [
        "print(\"'Hello'\",' and its datatype',type('Hello'))"
      ],
      "metadata": {
        "colab": {
          "base_uri": "https://localhost:8080/"
        },
        "id": "h2gBxLCce-Xh",
        "outputId": "0ea99277-ec9a-408d-a09b-decb010194da"
      },
      "execution_count": 7,
      "outputs": [
        {
          "output_type": "stream",
          "name": "stdout",
          "text": [
            "'Hello'  and its datatype <class 'str'>\n"
          ]
        }
      ]
    },
    {
      "cell_type": "markdown",
      "source": [
        "### Lists\n",
        "\n",
        "List are ordered collection of values and it is a mutable objects means, we can update elements (individual values)"
      ],
      "metadata": {
        "id": "zZm2gCwVgWvI"
      }
    },
    {
      "cell_type": "code",
      "source": [
        "li = [ 0,1,2,4,5]  # initialize list\n",
        "li1 = [ ] # Empty list declaration\n",
        "print('Intialized list -', li,' and its datatype',type(li))\n",
        "print('Empty list - ',li1,' and its datatype',type(li1))"
      ],
      "metadata": {
        "colab": {
          "base_uri": "https://localhost:8080/"
        },
        "id": "4RZbKi32fOh1",
        "outputId": "1dcfea14-108f-4ed0-80bd-555c258511e5"
      },
      "execution_count": 13,
      "outputs": [
        {
          "output_type": "stream",
          "name": "stdout",
          "text": [
            "Intialized list - [0, 1, 2, 4, 5]  and its datatype <class 'list'>\n",
            "Empty list -  []  and its datatype <class 'list'>\n"
          ]
        }
      ]
    },
    {
      "cell_type": "markdown",
      "source": [
        "### Tuples\n",
        "\n",
        "Tuples are immutable objects with in python. That means, once initialized as Tuple, you can't change any of members in it."
      ],
      "metadata": {
        "id": "g17TIwQEf8za"
      }
    },
    {
      "cell_type": "code",
      "source": [
        "tp = (1,2,4) # initialize tuple\n",
        "tp1 = () # Empty tuple\n",
        "\n",
        "print('Intialized tuple -', tp,' and its datatype',type(tp))\n",
        "print('Empty tuple - ',tp1,' and its datatype',type(tp1))"
      ],
      "metadata": {
        "colab": {
          "base_uri": "https://localhost:8080/"
        },
        "id": "G3IimiQgfTGo",
        "outputId": "83bdb4cf-8f8f-4f4c-dfe4-b5c9809b25ac"
      },
      "execution_count": 16,
      "outputs": [
        {
          "output_type": "stream",
          "name": "stdout",
          "text": [
            "Intialized tuple - (1, 2, 4)  and its datatype <class 'tuple'>\n",
            "Empty tuple -  ()  and its datatype <class 'tuple'>\n"
          ]
        }
      ]
    },
    {
      "cell_type": "markdown",
      "source": [
        "### Sets\n",
        "\n",
        "Sets are mutable objects to store homogenious values without any duplicates"
      ],
      "metadata": {
        "id": "dq8IhxsFgpXY"
      }
    },
    {
      "cell_type": "code",
      "source": [
        "s1 = {0,1,2,3,3} # initialize set\n",
        "s2 = set() # empty set\n",
        "\n",
        "print('Intialized set -', s1,' and its datatype',type(s1))\n",
        "print('Empty set - ',s2,' and its datatype',type(s2))"
      ],
      "metadata": {
        "colab": {
          "base_uri": "https://localhost:8080/"
        },
        "id": "q5R4XHfsf8GW",
        "outputId": "3fbc6ffe-9f18-410a-e810-209181afbee6"
      },
      "execution_count": 19,
      "outputs": [
        {
          "output_type": "stream",
          "name": "stdout",
          "text": [
            "Intialized set - {0, 1, 2, 3}  and its datatype <class 'set'>\n",
            "Empty set -  set()  and its datatype <class 'set'>\n"
          ]
        }
      ]
    },
    {
      "cell_type": "markdown",
      "source": [
        "### Dictionary\n",
        "\n",
        "Dictionaries store data as Key-Value pairs"
      ],
      "metadata": {
        "id": "16ekSIxtg8NO"
      }
    },
    {
      "cell_type": "code",
      "source": [
        "d1 = {\"name\":\"Ravi\", \"Age\":38} # initialize dictionary\n",
        "d2 = dict()  # empty dictionary\n",
        "\n",
        "print('Intialized Dict -', d1,' and its datatype',type(d1))\n",
        "print('Empty dict - ',d2,' and its datatype',type(d2))"
      ],
      "metadata": {
        "colab": {
          "base_uri": "https://localhost:8080/"
        },
        "id": "5W3_bofagu2L",
        "outputId": "a6d4d00e-cfeb-49d7-cb58-1b7e862220e5"
      },
      "execution_count": 20,
      "outputs": [
        {
          "output_type": "stream",
          "name": "stdout",
          "text": [
            "Intialized Dict - {'name': 'Ravi', 'Age': 38}  and its datatype <class 'dict'>\n",
            "Empty dict -  {}  and its datatype <class 'dict'>\n"
          ]
        }
      ]
    },
    {
      "cell_type": "code",
      "source": [],
      "metadata": {
        "id": "z8Y6imPLh8Sx"
      },
      "execution_count": null,
      "outputs": []
    }
  ]
}