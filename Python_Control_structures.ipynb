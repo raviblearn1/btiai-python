{
  "nbformat": 4,
  "nbformat_minor": 0,
  "metadata": {
    "colab": {
      "provenance": [],
      "toc_visible": true,
      "authorship_tag": "ABX9TyOONHajFbzfwcBnYnrqQDRV",
      "include_colab_link": true
    },
    "kernelspec": {
      "name": "python3",
      "display_name": "Python 3"
    },
    "language_info": {
      "name": "python"
    }
  },
  "cells": [
    {
      "cell_type": "markdown",
      "metadata": {
        "id": "view-in-github",
        "colab_type": "text"
      },
      "source": [
        "<a href=\"https://colab.research.google.com/github/raviblearn1/btiai-python/blob/main/Python_Control_structures.ipynb\" target=\"_parent\"><img src=\"https://colab.research.google.com/assets/colab-badge.svg\" alt=\"Open In Colab\"/></a>"
      ]
    },
    {
      "cell_type": "markdown",
      "source": [
        "### Control Strucrues\n",
        "\n",
        "Control structures are statements that makes your program smart.\n",
        "They two types -\n",
        "\n",
        "* For decision Making  - to make a decision with in program based on a condition\n",
        "* For Repeating Actions - to execute a block of code for certian number of times"
      ],
      "metadata": {
        "id": "mPp6VjIpmMqN"
      }
    },
    {
      "cell_type": "code",
      "execution_count": null,
      "metadata": {
        "id": "8Nq83dKomIZY"
      },
      "outputs": [],
      "source": []
    },
    {
      "cell_type": "markdown",
      "source": [
        "### If.. else Statements\n",
        "\n",
        "There are multipel variats of `If .. Statements` in python\n",
        "\n",
        "* **If statement** - to execute a statement only based on one condition is true\n",
        "* **If.. else statements** -  To execute one statment when a condition is True and another statement when the same condition is False.  \n",
        "* **If.. elif statements** - to execute multiple statements depends on multiple conditional valuation.  \n",
        "* **Nested If statements** - execute a statemnt based on one or more conditions"
      ],
      "metadata": {
        "id": "hbcfptKhm1vO"
      }
    },
    {
      "cell_type": "code",
      "source": [
        "# If Statement\n",
        "x = 8\n",
        "if (x <=10):\n",
        "  print(f'{x} value is less than 10')"
      ],
      "metadata": {
        "colab": {
          "base_uri": "https://localhost:8080/"
        },
        "id": "wNjUi7wGm6zM",
        "outputId": "f51d7de7-a1b9-4f62-ae46-836799d904cd"
      },
      "execution_count": 5,
      "outputs": [
        {
          "output_type": "stream",
          "name": "stdout",
          "text": [
            "8 value is less than 10\n"
          ]
        }
      ]
    },
    {
      "cell_type": "code",
      "source": [
        "# If..else Statement\n",
        "x = 12\n",
        "if (x <=10):\n",
        "  print(f'{x} value is less than 10')\n",
        "else:\n",
        "  print(f'{x} value is greater than 10')"
      ],
      "metadata": {
        "colab": {
          "base_uri": "https://localhost:8080/"
        },
        "id": "g09K3vItpLuq",
        "outputId": "b6b3a2c6-4607-4fd6-e9bc-4336219655a6"
      },
      "execution_count": 9,
      "outputs": [
        {
          "output_type": "stream",
          "name": "stdout",
          "text": [
            "12 value is greater than 10\n"
          ]
        }
      ]
    },
    {
      "cell_type": "code",
      "source": [
        "  # If..elsif Statement\n",
        "x = 12\n",
        "if(x <10):\n",
        "    print(f'{x} value is less than 10')\n",
        "elif(x>10):\n",
        "    print(f'{x} value is greater than 10')\n",
        "else:\n",
        "    print(f'{x} is equal to 10')\n"
      ],
      "metadata": {
        "colab": {
          "base_uri": "https://localhost:8080/"
        },
        "id": "Xl-pL7ampaAx",
        "outputId": "99351c48-ea9c-4f43-951e-efd2fc44e001"
      },
      "execution_count": 12,
      "outputs": [
        {
          "output_type": "stream",
          "name": "stdout",
          "text": [
            "12 value is greater than 10\n"
          ]
        }
      ]
    },
    {
      "cell_type": "code",
      "source": [
        "  # Nested..If Statement\n",
        "x = 12\n",
        "if(x <10):\n",
        "    if(x==10):\n",
        "        print(f'{x} value is less than or equal to 10')\n",
        "else:\n",
        "     print(f'{x} value is greater than 10')"
      ],
      "metadata": {
        "colab": {
          "base_uri": "https://localhost:8080/"
        },
        "id": "UpOWQW0ap9Nm",
        "outputId": "c259a8ce-59a1-450e-fd2d-ba3541f99e5c"
      },
      "execution_count": 15,
      "outputs": [
        {
          "output_type": "stream",
          "name": "stdout",
          "text": [
            "12 value is greater than 10\n"
          ]
        }
      ]
    },
    {
      "cell_type": "markdown",
      "source": [
        "### Loops\n",
        "\n",
        "Loops are constructs with in python to execute a block of code a specific number of times or until a specific condition becomes true.\n",
        "\n",
        "There are two types of loops -  \n",
        "\n",
        "* **while Loop**  - execute statemnts as long as the condition is true .\n",
        "```python\n",
        "  #python syntax\n",
        "  while condition_result==True:\n",
        "    print()  \n",
        "\n",
        "  # While loops construct has a condition that is evaluated for every iteration.\n",
        "  # As long as the condition is True, it will proceed with another iteration else it will stop and terminate the iteration.\n",
        "```\n",
        "\n",
        "* **For Loop**  - execute statemnts to a fixed number of iterations based on values.\n",
        ">\n",
        "```python\n",
        "  # for loop syntax\n",
        "  for counter in <list of value>:\n",
        "      print() # statments  \n",
        "\n",
        "  # here counter initilized with first value in <list of value> and execute statemnts below.\n",
        "  # it terminates after reading each item from list of value one after another.\n",
        "  \n",
        "```  "
      ],
      "metadata": {
        "id": "lvgyh7WPoC1t"
      }
    },
    {
      "cell_type": "code",
      "source": [
        "# Print first 10 numbers using While\n",
        "\n",
        "i=1\n",
        "\n",
        "while ( i <=10):\n",
        "    print(i)\n",
        "    i+=1\n"
      ],
      "metadata": {
        "colab": {
          "base_uri": "https://localhost:8080/"
        },
        "id": "iRtUCsCgoEyE",
        "outputId": "8c894563-8f26-4552-eced-2b5f02757266"
      },
      "execution_count": 16,
      "outputs": [
        {
          "output_type": "stream",
          "name": "stdout",
          "text": [
            "1\n",
            "2\n",
            "3\n",
            "4\n",
            "5\n",
            "6\n",
            "7\n",
            "8\n",
            "9\n",
            "10\n"
          ]
        }
      ]
    },
    {
      "cell_type": "code",
      "source": [
        "# Print first 10 numbers using For loop\n",
        "\n",
        "for i in range(1,11):\n",
        "    print(i)"
      ],
      "metadata": {
        "colab": {
          "base_uri": "https://localhost:8080/"
        },
        "id": "xOi10xGNrJU7",
        "outputId": "8b055734-a4ca-4928-adb6-769abbd17626"
      },
      "execution_count": 17,
      "outputs": [
        {
          "output_type": "stream",
          "name": "stdout",
          "text": [
            "1\n",
            "2\n",
            "3\n",
            "4\n",
            "5\n",
            "6\n",
            "7\n",
            "8\n",
            "9\n",
            "10\n"
          ]
        }
      ]
    },
    {
      "cell_type": "code",
      "source": [
        "for i in range(3):\n",
        "  print(i)\n",
        "else:\n",
        "  print(\"Done\")"
      ],
      "metadata": {
        "colab": {
          "base_uri": "https://localhost:8080/"
        },
        "id": "VIsd1gd4r-BB",
        "outputId": "840487b2-5fd8-435a-f2c2-fb77af97d2fc"
      },
      "execution_count": 18,
      "outputs": [
        {
          "output_type": "stream",
          "name": "stdout",
          "text": [
            "0\n",
            "1\n",
            "2\n",
            "Done\n"
          ]
        }
      ]
    },
    {
      "cell_type": "code",
      "source": [
        "a=5\n",
        "b=2.5\n",
        "c='7'\n",
        "d=True\n",
        "e=None\n",
        "\n",
        "print (a+b+int(c)+d+e)"
      ],
      "metadata": {
        "colab": {
          "base_uri": "https://localhost:8080/",
          "height": 176
        },
        "id": "470jfGwesIB4",
        "outputId": "614069d1-6c60-4f09-f2ef-548bc8c20b86"
      },
      "execution_count": 23,
      "outputs": [
        {
          "output_type": "error",
          "ename": "TypeError",
          "evalue": "unsupported operand type(s) for +: 'float' and 'NoneType'",
          "traceback": [
            "\u001b[0;31m---------------------------------------------------------------------------\u001b[0m",
            "\u001b[0;31mTypeError\u001b[0m                                 Traceback (most recent call last)",
            "\u001b[0;32m<ipython-input-23-0aaa915babfe>\u001b[0m in \u001b[0;36m<cell line: 0>\u001b[0;34m()\u001b[0m\n\u001b[1;32m      5\u001b[0m \u001b[0me\u001b[0m\u001b[0;34m=\u001b[0m\u001b[0;32mNone\u001b[0m\u001b[0;34m\u001b[0m\u001b[0;34m\u001b[0m\u001b[0m\n\u001b[1;32m      6\u001b[0m \u001b[0;34m\u001b[0m\u001b[0m\n\u001b[0;32m----> 7\u001b[0;31m \u001b[0mprint\u001b[0m \u001b[0;34m(\u001b[0m\u001b[0ma\u001b[0m\u001b[0;34m+\u001b[0m\u001b[0mb\u001b[0m\u001b[0;34m+\u001b[0m\u001b[0mint\u001b[0m\u001b[0;34m(\u001b[0m\u001b[0mc\u001b[0m\u001b[0;34m)\u001b[0m\u001b[0;34m+\u001b[0m\u001b[0md\u001b[0m\u001b[0;34m+\u001b[0m\u001b[0me\u001b[0m\u001b[0;34m)\u001b[0m\u001b[0;34m\u001b[0m\u001b[0;34m\u001b[0m\u001b[0m\n\u001b[0m",
            "\u001b[0;31mTypeError\u001b[0m: unsupported operand type(s) for +: 'float' and 'NoneType'"
          ]
        }
      ]
    },
    {
      "cell_type": "code",
      "source": [
        "list = [1,2,3,4]\n",
        "result = 0\n",
        "for i in list:\n",
        "  result+=i ** 2\n",
        "\n",
        "print(result)"
      ],
      "metadata": {
        "colab": {
          "base_uri": "https://localhost:8080/"
        },
        "id": "kEYJEdRlsXeE",
        "outputId": "ff87088d-c465-4278-add3-c8273d15353e"
      },
      "execution_count": 24,
      "outputs": [
        {
          "output_type": "stream",
          "name": "stdout",
          "text": [
            "30\n"
          ]
        }
      ]
    },
    {
      "cell_type": "code",
      "source": [
        "num = 10\n",
        "while num > 0:\n",
        "  print(num, end =\", \")\n",
        "  num -= 3"
      ],
      "metadata": {
        "colab": {
          "base_uri": "https://localhost:8080/"
        },
        "id": "5rY1gnxHtLGf",
        "outputId": "ffade3ec-362a-4bfd-a36d-c0b608389406"
      },
      "execution_count": 25,
      "outputs": [
        {
          "output_type": "stream",
          "name": "stdout",
          "text": [
            "10, 7, 4, 1, "
          ]
        }
      ]
    },
    {
      "cell_type": "code",
      "source": [
        "x = \"Python\"\n",
        "y=\"Programming\"\n",
        "\n",
        "# correct concatenation of string\n",
        "z =  x+\" \"+y\n",
        "print(z)\n",
        "\n",
        "# assign first variable on right to t\n",
        "t =  x,y\n",
        "print(y)\n",
        "\n",
        "# v =  x.append(y)  # 'str' object has no attribute 'append'\n",
        "# print(v)"
      ],
      "metadata": {
        "colab": {
          "base_uri": "https://localhost:8080/",
          "height": 228
        },
        "id": "VPSdOcTitdov",
        "outputId": "d03bcd6e-74b3-4cec-d92e-9b7aacf0ab98"
      },
      "execution_count": 31,
      "outputs": [
        {
          "output_type": "stream",
          "name": "stdout",
          "text": [
            "Python Programming\n",
            "Programming\n"
          ]
        },
        {
          "output_type": "error",
          "ename": "AttributeError",
          "evalue": "'str' object has no attribute 'append'",
          "traceback": [
            "\u001b[0;31m---------------------------------------------------------------------------\u001b[0m",
            "\u001b[0;31mAttributeError\u001b[0m                            Traceback (most recent call last)",
            "\u001b[0;32m<ipython-input-31-c8d50236a1b7>\u001b[0m in \u001b[0;36m<cell line: 0>\u001b[0;34m()\u001b[0m\n\u001b[1;32m     10\u001b[0m \u001b[0mprint\u001b[0m\u001b[0;34m(\u001b[0m\u001b[0my\u001b[0m\u001b[0;34m)\u001b[0m\u001b[0;34m\u001b[0m\u001b[0;34m\u001b[0m\u001b[0m\n\u001b[1;32m     11\u001b[0m \u001b[0;34m\u001b[0m\u001b[0m\n\u001b[0;32m---> 12\u001b[0;31m \u001b[0mv\u001b[0m \u001b[0;34m=\u001b[0m  \u001b[0mx\u001b[0m\u001b[0;34m.\u001b[0m\u001b[0mappend\u001b[0m\u001b[0;34m(\u001b[0m\u001b[0my\u001b[0m\u001b[0;34m)\u001b[0m\u001b[0;34m\u001b[0m\u001b[0;34m\u001b[0m\u001b[0m\n\u001b[0m\u001b[1;32m     13\u001b[0m \u001b[0mprint\u001b[0m\u001b[0;34m(\u001b[0m\u001b[0mv\u001b[0m\u001b[0;34m)\u001b[0m\u001b[0;34m\u001b[0m\u001b[0;34m\u001b[0m\u001b[0m\n",
            "\u001b[0;31mAttributeError\u001b[0m: 'str' object has no attribute 'append'"
          ]
        }
      ]
    },
    {
      "cell_type": "code",
      "source": [],
      "metadata": {
        "id": "DCWzbZwaty5a"
      },
      "execution_count": null,
      "outputs": []
    }
  ]
}