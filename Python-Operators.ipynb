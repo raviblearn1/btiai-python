{
  "nbformat": 4,
  "nbformat_minor": 0,
  "metadata": {
    "colab": {
      "provenance": [],
      "toc_visible": true,
      "authorship_tag": "ABX9TyONagRGuo7hpHBnlQbNE09Z",
      "include_colab_link": true
    },
    "kernelspec": {
      "name": "python3",
      "display_name": "Python 3"
    },
    "language_info": {
      "name": "python"
    }
  },
  "cells": [
    {
      "cell_type": "markdown",
      "metadata": {
        "id": "view-in-github",
        "colab_type": "text"
      },
      "source": [
        "<a href=\"https://colab.research.google.com/github/raviblearn1/btiai-python/blob/main/Python-Operators.ipynb\" target=\"_parent\"><img src=\"https://colab.research.google.com/assets/colab-badge.svg\" alt=\"Open In Colab\"/></a>"
      ]
    },
    {
      "cell_type": "code",
      "execution_count": null,
      "metadata": {
        "id": "ROZbYbjoimD5"
      },
      "outputs": [],
      "source": []
    },
    {
      "cell_type": "markdown",
      "source": [
        "## Operators\n",
        "\n",
        "`Operators` is a symbol represents to perform an opertion.  \n",
        "\n",
        "For example : x + y represents x and y are variables and '+' is an operator represents addition of given operands (x, y) and produce a total.\n"
      ],
      "metadata": {
        "id": "DcSp-2spin0Y"
      }
    },
    {
      "cell_type": "markdown",
      "source": [
        "### Arithematic Operators\n",
        "\n",
        "- (+)  Addition Operation\n",
        "- (-)  Subtraction Operator\n",
        "- (*)  Multiplicatio Operator\n",
        "- (%)  Modulo operator and return reminder\n",
        "- (/)  Division Operator"
      ],
      "metadata": {
        "id": "BZIKwES-jN-t"
      }
    },
    {
      "cell_type": "code",
      "source": [
        "# Arithematic Operators\n",
        "a = 10+5  # addition\n",
        "b = 10-5 # substraction\n",
        "c = 10*5 # Multiplication\n",
        "d = 10/5 # divisio\n",
        "\n",
        "print(f'Addition :{a}')\n",
        "print(f'Subtraction :{b}')\n",
        "print(f'Multiplication :{c}')\n",
        "print(f'Division :{d}')"
      ],
      "metadata": {
        "colab": {
          "base_uri": "https://localhost:8080/"
        },
        "id": "BWjLFhZqkQe6",
        "outputId": "278a26d4-8ebb-4e47-e52f-e345fdcb8e4e"
      },
      "execution_count": 2,
      "outputs": [
        {
          "output_type": "stream",
          "name": "stdout",
          "text": [
            "Addition :15\n",
            "Subtraction :5\n",
            "Multiplication :50\n",
            "Division :2.0\n"
          ]
        }
      ]
    },
    {
      "cell_type": "markdown",
      "source": [
        "In few cases, operator has differnt purpose.  \n",
        "\n",
        "'+' used for arithematic addition operation and same time '+' use with string to combine as contactenated string"
      ],
      "metadata": {
        "id": "79b9wPHYk1Ly"
      }
    },
    {
      "cell_type": "code",
      "source": [
        "# String concatenation\n",
        "\n",
        "greetings = \"Hello! \"\n",
        "\n",
        "final_greeting = greetings + ' World'\n",
        "\n",
        "print(f'Final greeting : {final_greeting}')"
      ],
      "metadata": {
        "colab": {
          "base_uri": "https://localhost:8080/"
        },
        "id": "xtTXf5gZiwmS",
        "outputId": "5590b319-eed5-4ff8-f5aa-3eca8365edb1"
      },
      "execution_count": 3,
      "outputs": [
        {
          "output_type": "stream",
          "name": "stdout",
          "text": [
            "Final greeting : Hello!  World\n"
          ]
        }
      ]
    },
    {
      "cell_type": "code",
      "source": [
        "print(10//3)"
      ],
      "metadata": {
        "colab": {
          "base_uri": "https://localhost:8080/"
        },
        "id": "REo84aPnlRlF",
        "outputId": "24be7310-6d4b-4306-edb5-34f96b7e168e"
      },
      "execution_count": 4,
      "outputs": [
        {
          "output_type": "stream",
          "name": "stdout",
          "text": [
            "3\n"
          ]
        }
      ]
    },
    {
      "cell_type": "code",
      "source": [],
      "metadata": {
        "id": "x-v_2-AxlYX6"
      },
      "execution_count": null,
      "outputs": []
    }
  ]
}